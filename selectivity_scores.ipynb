{
  "cells": [
    {
      "cell_type": "code",
      "execution_count": 33,
      "metadata": {},
      "outputs": [
        {
          "name": "stdout",
          "output_type": "stream",
          "text": [
            "Requirement already satisfied: pandas in c:\\users\\misse\\appdata\\local\\programs\\python\\python313\\lib\\site-packages (2.2.3)\n",
            "Requirement already satisfied: scikit-learn in c:\\users\\misse\\appdata\\local\\programs\\python\\python313\\lib\\site-packages (1.6.1)\n",
            "Requirement already satisfied: numpy>=1.26.0 in c:\\users\\misse\\appdata\\local\\programs\\python\\python313\\lib\\site-packages (from pandas) (2.2.3)\n",
            "Requirement already satisfied: python-dateutil>=2.8.2 in c:\\users\\misse\\appdata\\local\\programs\\python\\python313\\lib\\site-packages (from pandas) (2.9.0.post0)\n",
            "Requirement already satisfied: pytz>=2020.1 in c:\\users\\misse\\appdata\\local\\programs\\python\\python313\\lib\\site-packages (from pandas) (2025.1)\n",
            "Requirement already satisfied: tzdata>=2022.7 in c:\\users\\misse\\appdata\\local\\programs\\python\\python313\\lib\\site-packages (from pandas) (2025.1)\n",
            "Requirement already satisfied: scipy>=1.6.0 in c:\\users\\misse\\appdata\\local\\programs\\python\\python313\\lib\\site-packages (from scikit-learn) (1.15.2)\n",
            "Requirement already satisfied: joblib>=1.2.0 in c:\\users\\misse\\appdata\\local\\programs\\python\\python313\\lib\\site-packages (from scikit-learn) (1.4.2)\n",
            "Requirement already satisfied: threadpoolctl>=3.1.0 in c:\\users\\misse\\appdata\\local\\programs\\python\\python313\\lib\\site-packages (from scikit-learn) (3.6.0)\n",
            "Requirement already satisfied: six>=1.5 in c:\\users\\misse\\appdata\\local\\programs\\python\\python313\\lib\\site-packages (from python-dateutil>=2.8.2->pandas) (1.17.0)\n",
            "Note: you may need to restart the kernel to use updated packages.\n"
          ]
        },
        {
          "name": "stderr",
          "output_type": "stream",
          "text": [
            "\n",
            "[notice] A new release of pip is available: 24.3.1 -> 25.0.1\n",
            "[notice] To update, run: python.exe -m pip install --upgrade pip\n"
          ]
        }
      ],
      "source": [
        "%pip install pandas scikit-learn\n",
        "# !pip install pandas scikit-learn"
      ]
    },
    {
      "cell_type": "code",
      "execution_count": 34,
      "metadata": {
        "id": "MWGjTGu3H8su"
      },
      "outputs": [],
      "source": [
        "import pandas as pd\n",
        "from sklearn.metrics import mean_squared_error"
      ]
    },
    {
      "cell_type": "code",
      "execution_count": null,
      "metadata": {
        "colab": {
          "base_uri": "https://localhost:8080/"
        },
        "id": "e0WPEczGIA6K",
        "outputId": "fa20aaaa-6bca-4f30-dba3-e9abe3141ec2"
      },
      "outputs": [
        {
          "name": "stderr",
          "output_type": "stream",
          "text": [
            "\n",
            "[notice] A new release of pip is available: 24.3.1 -> 25.0.1\n",
            "[notice] To update, run: python.exe -m pip install --upgrade pip\n"
          ]
        },
        {
          "name": "stdout",
          "output_type": "stream",
          "text": [
            "Requirement already satisfied: gdown in c:\\users\\misse\\appdata\\local\\programs\\python\\python313\\lib\\site-packages (5.2.0)\n",
            "Requirement already satisfied: beautifulsoup4 in c:\\users\\misse\\appdata\\local\\programs\\python\\python313\\lib\\site-packages (from gdown) (4.13.3)\n",
            "Requirement already satisfied: filelock in c:\\users\\misse\\appdata\\local\\programs\\python\\python313\\lib\\site-packages (from gdown) (3.18.0)\n",
            "Requirement already satisfied: requests[socks] in c:\\users\\misse\\appdata\\local\\programs\\python\\python313\\lib\\site-packages (from gdown) (2.32.3)\n",
            "Requirement already satisfied: tqdm in c:\\users\\misse\\appdata\\local\\programs\\python\\python313\\lib\\site-packages (from gdown) (4.67.1)\n",
            "Requirement already satisfied: soupsieve>1.2 in c:\\users\\misse\\appdata\\local\\programs\\python\\python313\\lib\\site-packages (from beautifulsoup4->gdown) (2.6)\n",
            "Requirement already satisfied: typing-extensions>=4.0.0 in c:\\users\\misse\\appdata\\local\\programs\\python\\python313\\lib\\site-packages (from beautifulsoup4->gdown) (4.12.2)\n",
            "Requirement already satisfied: charset-normalizer<4,>=2 in c:\\users\\misse\\appdata\\local\\programs\\python\\python313\\lib\\site-packages (from requests[socks]->gdown) (3.4.1)\n",
            "Requirement already satisfied: idna<4,>=2.5 in c:\\users\\misse\\appdata\\local\\programs\\python\\python313\\lib\\site-packages (from requests[socks]->gdown) (3.10)\n",
            "Requirement already satisfied: urllib3<3,>=1.21.1 in c:\\users\\misse\\appdata\\local\\programs\\python\\python313\\lib\\site-packages (from requests[socks]->gdown) (2.3.0)\n",
            "Requirement already satisfied: certifi>=2017.4.17 in c:\\users\\misse\\appdata\\local\\programs\\python\\python313\\lib\\site-packages (from requests[socks]->gdown) (2025.1.31)\n",
            "Requirement already satisfied: PySocks!=1.5.7,>=1.5.6 in c:\\users\\misse\\appdata\\local\\programs\\python\\python313\\lib\\site-packages (from requests[socks]->gdown) (1.7.1)\n",
            "Requirement already satisfied: colorama in c:\\users\\misse\\appdata\\local\\programs\\python\\python313\\lib\\site-packages (from tqdm->gdown) (0.4.6)\n",
            "Note: you may need to restart the kernel to use updated packages.\n"
          ]
        },
        {
          "data": {
            "text/plain": [
              "['c:\\\\Users\\\\misse\\\\Projects\\\\pharmahacks_25\\\\pharmahacks-25\\\\csv_tables\\\\training\\\\Copie de table-3_0.csv',\n",
              " 'c:\\\\Users\\\\misse\\\\Projects\\\\pharmahacks_25\\\\pharmahacks-25\\\\csv_tables\\\\training\\\\table-1.csv',\n",
              " 'c:\\\\Users\\\\misse\\\\Projects\\\\pharmahacks_25\\\\pharmahacks-25\\\\csv_tables\\\\training\\\\table-2.csv',\n",
              " 'c:\\\\Users\\\\misse\\\\Projects\\\\pharmahacks_25\\\\pharmahacks-25\\\\csv_tables\\\\training\\\\table-3',\n",
              " 'c:\\\\Users\\\\misse\\\\Projects\\\\pharmahacks_25\\\\pharmahacks-25\\\\csv_tables\\\\training\\\\table-3_0.csv',\n",
              " 'c:\\\\Users\\\\misse\\\\Projects\\\\pharmahacks_25\\\\pharmahacks-25\\\\csv_tables\\\\training\\\\table-3_NA.csv',\n",
              " 'c:\\\\Users\\\\misse\\\\Projects\\\\pharmahacks_25\\\\pharmahacks-25\\\\csv_tables\\\\training\\\\table-3.csv',\n",
              " 'c:\\\\Users\\\\misse\\\\Projects\\\\pharmahacks_25\\\\pharmahacks-25\\\\csv_tables\\\\table-1.csv',\n",
              " 'c:\\\\Users\\\\misse\\\\Projects\\\\pharmahacks_25\\\\pharmahacks-25\\\\csv_tables\\\\table-2.csv',\n",
              " 'c:\\\\Users\\\\misse\\\\Projects\\\\pharmahacks_25\\\\pharmahacks-25\\\\csv_tables\\\\table-3.csv']"
            ]
          },
          "execution_count": 35,
          "metadata": {},
          "output_type": "execute_result"
        }
      ],
      "source": [
        "# # load path\n",
        "# %pip install gdown\n",
        "# import gdown\n",
        "# url_results = \"https://drive.google.com/drive/folders/1Phkt4p4TlKBpSGa7-bX7jVloQ_qc29km?usp=drive_link\"\n",
        "# gdown.download_folder(url_results, quiet=True)\n",
        "\n",
        "# specificity_scores = \"https://drive.google.com/drive/folders/1pFuFpNtd6oh2w6Ga7PRlt0kjjwbDjXTP?usp=sharing\"\n",
        "# gdown.download_folder(specificity_scores, quiet=True)"
      ]
    },
    {
      "cell_type": "markdown",
      "metadata": {
        "id": "P6YDvtUZPQmk"
      },
      "source": [
        "## 3000nM"
      ]
    },
    {
      "cell_type": "code",
      "execution_count": null,
      "metadata": {
        "colab": {
          "base_uri": "https://localhost:8080/"
        },
        "id": "4L4oJ_6nIMEb",
        "outputId": "286f26e6-e7c6-488e-e00f-fc396719c0d7"
      },
      "outputs": [
        {
          "name": "stdout",
          "output_type": "stream",
          "text": [
            "                             Kinase Compound Predicted_Kd_Category\n",
            "0                              AAK1  AMG-706                >300nM\n",
            "1        ABL1(E255K)-phosphorylated  AMG-706                >300nM\n",
            "2     ABL1(F317I)-nonphosphorylated  AMG-706                >300nM\n",
            "3        ABL1(F317I)-phosphorylated  AMG-706                >300nM\n",
            "4     ABL1(F317L)-nonphosphorylated  AMG-706                >300nM\n",
            "...                             ...      ...                   ...\n",
            "5299                            YES   VX-745                >300nM\n",
            "5300                           YSK1   VX-745                >300nM\n",
            "5301                           YSK4   VX-745                <300nM\n",
            "5302                            ZAK   VX-745                >300nM\n",
            "5303                          ZAP70   VX-745                >300nM\n",
            "\n",
            "[5304 rows x 3 columns]\n",
            "                             Kinase Compound Predicted_Kd_Category\n",
            "0                              AAK1  AMG-706               >3000nM\n",
            "1        ABL1(E255K)-phosphorylated  AMG-706               <3000nM\n",
            "2     ABL1(F317I)-nonphosphorylated  AMG-706               >3000nM\n",
            "3        ABL1(F317I)-phosphorylated  AMG-706               >3000nM\n",
            "4     ABL1(F317L)-nonphosphorylated  AMG-706               >3000nM\n",
            "...                             ...      ...                   ...\n",
            "5299                            YES   VX-745               >3000nM\n",
            "5300                           YSK1   VX-745               >3000nM\n",
            "5301                           YSK4   VX-745               <3000nM\n",
            "5302                            ZAK   VX-745               >3000nM\n",
            "5303                          ZAP70   VX-745               >3000nM\n",
            "\n",
            "[5304 rows x 3 columns]\n",
            "{'AMG-706': 0.083710407239819, 'BIBF-1120 (derivative)': 0.06787330316742081, 'CI-1040': 0.17647058823529413, 'GSK-461364A': 0.3054298642533937, 'PI-103': 0.04524886877828054, 'SKI-606': 0.2239819004524887, 'Sorafenib': 0.1493212669683258, 'SU-14813': 0.06108597285067873, 'Sunitinib': 0.01809954751131222, 'TG-100-115': 0.14705882352941177, 'VX-680/MK-0457': 0.21040723981900453, 'VX-745': 0.033936651583710405}\n",
            "                 Compound  S(300nM) predicted\n",
            "0                 AMG-706            0.083710\n",
            "1  BIBF-1120 (derivative)            0.067873\n",
            "2                 CI-1040            0.176471\n",
            "3             GSK-461364A            0.305430\n",
            "4                  PI-103            0.045249\n"
          ]
        }
      ],
      "source": [
        "kd_300 = pd.read_csv('300_kd_category.csv')\n",
        "kd_3000 = pd.read_csv('3000_kd_category.csv')\n",
        "\n",
        "print(kd_300)\n",
        "print(kd_3000)\n",
        "\n",
        "kd_300['Affinity'] = kd_300['Predicted_Kd_Category'].apply(lambda x: 1 if '<300nM' in x else 0)\n",
        "\n",
        "specificity_scores_300 = {}\n",
        "\n",
        "for compound in kd_300['Compound'].unique():\n",
        "  compound_data = kd_300[kd_300['Compound'] == compound]\n",
        "\n",
        "  # count number of kinases with high affinity\n",
        "  high_affinity_count = compound_data[compound_data['Affinity'] == 1]['Kinase'].nunique()\n",
        "\n",
        "  # count total number of kinases for this inhibitor\n",
        "  total_kinases = compound_data['Kinase'].nunique()\n",
        "\n",
        "  # calculate specificity score\n",
        "  specificity_score = high_affinity_count / total_kinases\n",
        "  specificity_scores_300[compound] = specificity_score\n",
        "\n",
        "print(specificity_scores_300)\n",
        "\n",
        "predicted_specificity = pd.DataFrame(list(specificity_scores_300.items()), columns=['Compound', 'S(300nM) predicted'])\n",
        "print(predicted_specificity.head())"
      ]
    },
    {
      "cell_type": "code",
      "execution_count": 37,
      "metadata": {
        "colab": {
          "base_uri": "https://localhost:8080/"
        },
        "id": "f4awauNZI4az",
        "outputId": "84925292-50d7-44cd-a798-a55c5cc4c706"
      },
      "outputs": [
        {
          "name": "stdout",
          "output_type": "stream",
          "text": [
            "                  Compound  S(300nM) predicted  S(300nM)\n",
            "0                  AMG-706            0.083710    0.0389\n",
            "1   BIBF-1120 (derivative)            0.067873    0.2927\n",
            "2                  CI-1040            0.176471    0.0026\n",
            "3              GSK-461364A            0.305430    0.0155\n",
            "4                   PI-103            0.045249    0.0207\n",
            "5                  SKI-606            0.223982    0.1917\n",
            "6                Sorafenib            0.149321    0.0803\n",
            "7                 SU-14813            0.061086    0.2124\n",
            "8                Sunitinib            0.018100    0.3109\n",
            "9               TG-100-115            0.147059    0.0337\n",
            "10          VX-680/MK-0457            0.210407    0.1321\n",
            "11                  VX-745            0.033937    0.0052\n"
          ]
        }
      ],
      "source": [
        "actual_specificity = pd.read_csv('csv_tables/table-2.csv', usecols=[\"Compound\", \"S(300nM)\"])\n",
        "\n",
        "merged_df = predicted_specificity.merge(actual_specificity, on=\"Compound\", suffixes=(\"_predicted\", \"_actual\"))\n",
        "print(merged_df)"
      ]
    },
    {
      "cell_type": "code",
      "execution_count": 38,
      "metadata": {
        "colab": {
          "base_uri": "https://localhost:8080/"
        },
        "id": "VvqvPBvBOaRr",
        "outputId": "6cd86fe1-03ca-4458-e2ed-08ab5dfff297"
      },
      "outputs": [
        {
          "name": "stdout",
          "output_type": "stream",
          "text": [
            "0.11139166666666668\n",
            "Mean Squared Error: 0.025140842400664064\n"
          ]
        }
      ],
      "source": [
        "actual_mean = merged_df['S(300nM)'].mean()\n",
        "print(actual_mean)\n",
        "\n",
        "squared_differences = (merged_df['S(300nM)'] - merged_df['S(300nM) predicted']) ** 2\n",
        "mse = squared_differences.mean()\n",
        "print(f\"Mean Squared Error: {mse}\")"
      ]
    },
    {
      "cell_type": "markdown",
      "metadata": {
        "id": "780AbartOfTb"
      },
      "source": [
        "## 3000nM"
      ]
    },
    {
      "cell_type": "code",
      "execution_count": 39,
      "metadata": {
        "colab": {
          "base_uri": "https://localhost:8080/"
        },
        "id": "UQGDyLOWPAFz",
        "outputId": "78841a3e-9485-44cc-dd97-729b4c6bddbe"
      },
      "outputs": [
        {
          "name": "stdout",
          "output_type": "stream",
          "text": [
            "                            Kinase Compound Predicted_Kd_Category  Affinity\n",
            "0                             AAK1  AMG-706               >3000nM         0\n",
            "1       ABL1(E255K)-phosphorylated  AMG-706               <3000nM         1\n",
            "2    ABL1(F317I)-nonphosphorylated  AMG-706               >3000nM         0\n",
            "3       ABL1(F317I)-phosphorylated  AMG-706               >3000nM         0\n",
            "4    ABL1(F317L)-nonphosphorylated  AMG-706               >3000nM         0\n",
            "..                             ...      ...                   ...       ...\n",
            "437                            YES  AMG-706               >3000nM         0\n",
            "438                           YSK1  AMG-706               >3000nM         0\n",
            "439                           YSK4  AMG-706               <3000nM         1\n",
            "440                            ZAK  AMG-706               >3000nM         0\n",
            "441                          ZAP70  AMG-706               >3000nM         0\n",
            "\n",
            "[442 rows x 4 columns]\n",
            "36\n",
            "                            Kinase                Compound  \\\n",
            "442                           AAK1  BIBF-1120 (derivative)   \n",
            "443     ABL1(E255K)-phosphorylated  BIBF-1120 (derivative)   \n",
            "444  ABL1(F317I)-nonphosphorylated  BIBF-1120 (derivative)   \n",
            "445     ABL1(F317I)-phosphorylated  BIBF-1120 (derivative)   \n",
            "446  ABL1(F317L)-nonphosphorylated  BIBF-1120 (derivative)   \n",
            "..                             ...                     ...   \n",
            "879                            YES  BIBF-1120 (derivative)   \n",
            "880                           YSK1  BIBF-1120 (derivative)   \n",
            "881                           YSK4  BIBF-1120 (derivative)   \n",
            "882                            ZAK  BIBF-1120 (derivative)   \n",
            "883                          ZAP70  BIBF-1120 (derivative)   \n",
            "\n",
            "    Predicted_Kd_Category  Affinity  \n",
            "442               >3000nM         0  \n",
            "443               <3000nM         1  \n",
            "444               >3000nM         0  \n",
            "445               >3000nM         0  \n",
            "446               >3000nM         0  \n",
            "..                    ...       ...  \n",
            "879               <3000nM         1  \n",
            "880               >3000nM         0  \n",
            "881               <3000nM         1  \n",
            "882               >3000nM         0  \n",
            "883               >3000nM         0  \n",
            "\n",
            "[442 rows x 4 columns]\n",
            "93\n",
            "                             Kinase Compound Predicted_Kd_Category  Affinity\n",
            "884                            AAK1  CI-1040               >3000nM         0\n",
            "885      ABL1(E255K)-phosphorylated  CI-1040               <3000nM         1\n",
            "886   ABL1(F317I)-nonphosphorylated  CI-1040               >3000nM         0\n",
            "887      ABL1(F317I)-phosphorylated  CI-1040               >3000nM         0\n",
            "888   ABL1(F317L)-nonphosphorylated  CI-1040               <3000nM         1\n",
            "...                             ...      ...                   ...       ...\n",
            "1321                            YES  CI-1040               <3000nM         1\n",
            "1322                           YSK1  CI-1040               >3000nM         0\n",
            "1323                           YSK4  CI-1040               <3000nM         1\n",
            "1324                            ZAK  CI-1040               >3000nM         0\n",
            "1325                          ZAP70  CI-1040               >3000nM         0\n",
            "\n",
            "[442 rows x 4 columns]\n",
            "52\n",
            "                             Kinase     Compound Predicted_Kd_Category  \\\n",
            "1326                           AAK1  GSK-461364A               <3000nM   \n",
            "1327     ABL1(E255K)-phosphorylated  GSK-461364A               <3000nM   \n",
            "1328  ABL1(F317I)-nonphosphorylated  GSK-461364A               <3000nM   \n",
            "1329     ABL1(F317I)-phosphorylated  GSK-461364A               <3000nM   \n",
            "1330  ABL1(F317L)-nonphosphorylated  GSK-461364A               <3000nM   \n",
            "...                             ...          ...                   ...   \n",
            "1763                            YES  GSK-461364A               <3000nM   \n",
            "1764                           YSK1  GSK-461364A               >3000nM   \n",
            "1765                           YSK4  GSK-461364A               <3000nM   \n",
            "1766                            ZAK  GSK-461364A               <3000nM   \n",
            "1767                          ZAP70  GSK-461364A               >3000nM   \n",
            "\n",
            "      Affinity  \n",
            "1326         1  \n",
            "1327         1  \n",
            "1328         1  \n",
            "1329         1  \n",
            "1330         1  \n",
            "...        ...  \n",
            "1763         1  \n",
            "1764         0  \n",
            "1765         1  \n",
            "1766         1  \n",
            "1767         0  \n",
            "\n",
            "[442 rows x 4 columns]\n",
            "187\n",
            "                             Kinase Compound Predicted_Kd_Category  Affinity\n",
            "1768                           AAK1   PI-103               >3000nM         0\n",
            "1769     ABL1(E255K)-phosphorylated   PI-103               <3000nM         1\n",
            "1770  ABL1(F317I)-nonphosphorylated   PI-103               <3000nM         1\n",
            "1771     ABL1(F317I)-phosphorylated   PI-103               <3000nM         1\n",
            "1772  ABL1(F317L)-nonphosphorylated   PI-103               <3000nM         1\n",
            "...                             ...      ...                   ...       ...\n",
            "2205                            YES   PI-103               >3000nM         0\n",
            "2206                           YSK1   PI-103               >3000nM         0\n",
            "2207                           YSK4   PI-103               <3000nM         1\n",
            "2208                            ZAK   PI-103               >3000nM         0\n",
            "2209                          ZAP70   PI-103               >3000nM         0\n",
            "\n",
            "[442 rows x 4 columns]\n",
            "69\n",
            "                             Kinase Compound Predicted_Kd_Category  Affinity\n",
            "2210                           AAK1  SKI-606               >3000nM         0\n",
            "2211     ABL1(E255K)-phosphorylated  SKI-606               <3000nM         1\n",
            "2212  ABL1(F317I)-nonphosphorylated  SKI-606               <3000nM         1\n",
            "2213     ABL1(F317I)-phosphorylated  SKI-606               <3000nM         1\n",
            "2214  ABL1(F317L)-nonphosphorylated  SKI-606               <3000nM         1\n",
            "...                             ...      ...                   ...       ...\n",
            "2647                            YES  SKI-606               <3000nM         1\n",
            "2648                           YSK1  SKI-606               >3000nM         0\n",
            "2649                           YSK4  SKI-606               <3000nM         1\n",
            "2650                            ZAK  SKI-606               <3000nM         1\n",
            "2651                          ZAP70  SKI-606               >3000nM         0\n",
            "\n",
            "[442 rows x 4 columns]\n",
            "183\n",
            "                             Kinase   Compound Predicted_Kd_Category  Affinity\n",
            "2652                           AAK1  Sorafenib               >3000nM         0\n",
            "2653     ABL1(E255K)-phosphorylated  Sorafenib               <3000nM         1\n",
            "2654  ABL1(F317I)-nonphosphorylated  Sorafenib               <3000nM         1\n",
            "2655     ABL1(F317I)-phosphorylated  Sorafenib               <3000nM         1\n",
            "2656  ABL1(F317L)-nonphosphorylated  Sorafenib               <3000nM         1\n",
            "...                             ...        ...                   ...       ...\n",
            "3089                            YES  Sorafenib               <3000nM         1\n",
            "3090                           YSK1  Sorafenib               >3000nM         0\n",
            "3091                           YSK4  Sorafenib               <3000nM         1\n",
            "3092                            ZAK  Sorafenib               <3000nM         1\n",
            "3093                          ZAP70  Sorafenib               >3000nM         0\n",
            "\n",
            "[442 rows x 4 columns]\n",
            "110\n",
            "                             Kinase  Compound Predicted_Kd_Category  Affinity\n",
            "3094                           AAK1  SU-14813               >3000nM         0\n",
            "3095     ABL1(E255K)-phosphorylated  SU-14813               <3000nM         1\n",
            "3096  ABL1(F317I)-nonphosphorylated  SU-14813               >3000nM         0\n",
            "3097     ABL1(F317I)-phosphorylated  SU-14813               >3000nM         0\n",
            "3098  ABL1(F317L)-nonphosphorylated  SU-14813               <3000nM         1\n",
            "...                             ...       ...                   ...       ...\n",
            "3531                            YES  SU-14813               <3000nM         1\n",
            "3532                           YSK1  SU-14813               >3000nM         0\n",
            "3533                           YSK4  SU-14813               <3000nM         1\n",
            "3534                            ZAK  SU-14813               <3000nM         1\n",
            "3535                          ZAP70  SU-14813               >3000nM         0\n",
            "\n",
            "[442 rows x 4 columns]\n",
            "117\n",
            "                             Kinase   Compound Predicted_Kd_Category  Affinity\n",
            "3536                           AAK1  Sunitinib               >3000nM         0\n",
            "3537     ABL1(E255K)-phosphorylated  Sunitinib               >3000nM         0\n",
            "3538  ABL1(F317I)-nonphosphorylated  Sunitinib               >3000nM         0\n",
            "3539     ABL1(F317I)-phosphorylated  Sunitinib               >3000nM         0\n",
            "3540  ABL1(F317L)-nonphosphorylated  Sunitinib               >3000nM         0\n",
            "...                             ...        ...                   ...       ...\n",
            "3973                            YES  Sunitinib               >3000nM         0\n",
            "3974                           YSK1  Sunitinib               >3000nM         0\n",
            "3975                           YSK4  Sunitinib               <3000nM         1\n",
            "3976                            ZAK  Sunitinib               >3000nM         0\n",
            "3977                          ZAP70  Sunitinib               >3000nM         0\n",
            "\n",
            "[442 rows x 4 columns]\n",
            "33\n",
            "                             Kinase    Compound Predicted_Kd_Category  \\\n",
            "3978                           AAK1  TG-100-115               <3000nM   \n",
            "3979     ABL1(E255K)-phosphorylated  TG-100-115               <3000nM   \n",
            "3980  ABL1(F317I)-nonphosphorylated  TG-100-115               >3000nM   \n",
            "3981     ABL1(F317I)-phosphorylated  TG-100-115               >3000nM   \n",
            "3982  ABL1(F317L)-nonphosphorylated  TG-100-115               >3000nM   \n",
            "...                             ...         ...                   ...   \n",
            "4415                            YES  TG-100-115               >3000nM   \n",
            "4416                           YSK1  TG-100-115               >3000nM   \n",
            "4417                           YSK4  TG-100-115               <3000nM   \n",
            "4418                            ZAK  TG-100-115               >3000nM   \n",
            "4419                          ZAP70  TG-100-115               >3000nM   \n",
            "\n",
            "      Affinity  \n",
            "3978         1  \n",
            "3979         1  \n",
            "3980         0  \n",
            "3981         0  \n",
            "3982         0  \n",
            "...        ...  \n",
            "4415         0  \n",
            "4416         0  \n",
            "4417         1  \n",
            "4418         0  \n",
            "4419         0  \n",
            "\n",
            "[442 rows x 4 columns]\n",
            "76\n",
            "                             Kinase        Compound Predicted_Kd_Category  \\\n",
            "4420                           AAK1  VX-680/MK-0457               <3000nM   \n",
            "4421     ABL1(E255K)-phosphorylated  VX-680/MK-0457               <3000nM   \n",
            "4422  ABL1(F317I)-nonphosphorylated  VX-680/MK-0457               <3000nM   \n",
            "4423     ABL1(F317I)-phosphorylated  VX-680/MK-0457               <3000nM   \n",
            "4424  ABL1(F317L)-nonphosphorylated  VX-680/MK-0457               <3000nM   \n",
            "...                             ...             ...                   ...   \n",
            "4857                            YES  VX-680/MK-0457               <3000nM   \n",
            "4858                           YSK1  VX-680/MK-0457               >3000nM   \n",
            "4859                           YSK4  VX-680/MK-0457               <3000nM   \n",
            "4860                            ZAK  VX-680/MK-0457               <3000nM   \n",
            "4861                          ZAP70  VX-680/MK-0457               >3000nM   \n",
            "\n",
            "      Affinity  \n",
            "4420         1  \n",
            "4421         1  \n",
            "4422         1  \n",
            "4423         1  \n",
            "4424         1  \n",
            "...        ...  \n",
            "4857         1  \n",
            "4858         0  \n",
            "4859         1  \n",
            "4860         1  \n",
            "4861         0  \n",
            "\n",
            "[442 rows x 4 columns]\n",
            "153\n",
            "                             Kinase Compound Predicted_Kd_Category  Affinity\n",
            "4862                           AAK1   VX-745               >3000nM         0\n",
            "4863     ABL1(E255K)-phosphorylated   VX-745               <3000nM         1\n",
            "4864  ABL1(F317I)-nonphosphorylated   VX-745               <3000nM         1\n",
            "4865     ABL1(F317I)-phosphorylated   VX-745               <3000nM         1\n",
            "4866  ABL1(F317L)-nonphosphorylated   VX-745               <3000nM         1\n",
            "...                             ...      ...                   ...       ...\n",
            "5299                            YES   VX-745               >3000nM         0\n",
            "5300                           YSK1   VX-745               >3000nM         0\n",
            "5301                           YSK4   VX-745               <3000nM         1\n",
            "5302                            ZAK   VX-745               >3000nM         0\n",
            "5303                          ZAP70   VX-745               >3000nM         0\n",
            "\n",
            "[442 rows x 4 columns]\n",
            "36\n",
            "{'AMG-706': 0.08144796380090498, 'BIBF-1120 (derivative)': 0.21040723981900453, 'CI-1040': 0.11764705882352941, 'GSK-461364A': 0.4230769230769231, 'PI-103': 0.15610859728506787, 'SKI-606': 0.41402714932126694, 'Sorafenib': 0.248868778280543, 'SU-14813': 0.2647058823529412, 'Sunitinib': 0.0746606334841629, 'TG-100-115': 0.17194570135746606, 'VX-680/MK-0457': 0.34615384615384615, 'VX-745': 0.08144796380090498}\n",
            "                 Compound  S(3000nM) predicted\n",
            "0                 AMG-706             0.081448\n",
            "1  BIBF-1120 (derivative)             0.210407\n",
            "2                 CI-1040             0.117647\n",
            "3             GSK-461364A             0.423077\n",
            "4                  PI-103             0.156109\n"
          ]
        }
      ],
      "source": [
        "\n",
        "kd_3000['Affinity'] = kd_3000['Predicted_Kd_Category'].apply(lambda x: 1 if '<3000nM' in x else 0)\n",
        "\n",
        "specificity_scores_3000 = {}\n",
        "\n",
        "for compound in kd_3000['Compound'].unique():\n",
        "  compound_data = kd_3000[kd_3000['Compound'] == compound]\n",
        "  print(compound_data)\n",
        "\n",
        "  # count number of kinases with high affinity\n",
        "  high_affinity_count = compound_data[compound_data['Affinity'] == 1]['Kinase'].nunique()\n",
        "  print(high_affinity_count)\n",
        "\n",
        "  # count total number of kinases for this inhibitor\n",
        "  total_kinases = compound_data['Kinase'].nunique()\n",
        "\n",
        "  # calculate specificity score\n",
        "  specificity_score = high_affinity_count / total_kinases\n",
        "  specificity_scores_3000[compound] = specificity_score\n",
        "\n",
        "print(specificity_scores_3000)\n",
        "\n",
        "predicted_specificity = pd.DataFrame(list(specificity_scores_3000.items()), columns=['Compound', 'S(3000nM) predicted'])\n",
        "print(predicted_specificity.head())"
      ]
    },
    {
      "cell_type": "code",
      "execution_count": 40,
      "metadata": {
        "colab": {
          "base_uri": "https://localhost:8080/"
        },
        "id": "FtS-1N-lPFQD",
        "outputId": "ae78d3f2-e373-4121-dd2d-3cd61d8ebd2a"
      },
      "outputs": [
        {
          "name": "stdout",
          "output_type": "stream",
          "text": [
            "                  Compound  S(3000nM) predicted  S(3000nM)\n",
            "0                  AMG-706             0.081448     0.0777\n",
            "1   BIBF-1120 (derivative)             0.210407     0.5181\n",
            "2                  CI-1040             0.117647     0.0078\n",
            "3              GSK-461364A             0.423077     0.1010\n",
            "4                   PI-103             0.156109     0.0570\n",
            "5                  SKI-606             0.414027     0.4249\n",
            "6                Sorafenib             0.248869     0.1684\n",
            "7                 SU-14813             0.264706     0.5415\n",
            "8                Sunitinib             0.074661     0.5959\n",
            "9               TG-100-115             0.171946     0.1321\n",
            "10          VX-680/MK-0457             0.346154     0.3472\n",
            "11                  VX-745             0.081448     0.0233\n"
          ]
        }
      ],
      "source": [
        "actual_specificity = pd.read_csv('csv_tables/table-2.csv', usecols=[\"Compound\", \"S(3000nM)\"])\n",
        "\n",
        "merged_df = predicted_specificity.merge(actual_specificity, on=\"Compound\", suffixes=(\"_predicted\", \"_actual\"))\n",
        "print(merged_df)"
      ]
    },
    {
      "cell_type": "code",
      "execution_count": 41,
      "metadata": {
        "colab": {
          "base_uri": "https://localhost:8080/"
        },
        "id": "v1OkZNmrPK6E",
        "outputId": "cdee7149-5913-4cf9-81ca-0cd17fbb8cd9"
      },
      "outputs": [
        {
          "name": "stdout",
          "output_type": "stream",
          "text": [
            "0.24957499999999996\n",
            "Mean Squared Error: 0.04834834838713034\n"
          ]
        }
      ],
      "source": [
        "actual_mean = merged_df['S(3000nM)'].mean()\n",
        "print(actual_mean)\n",
        "\n",
        "squared_differences = (merged_df['S(3000nM)'] - merged_df['S(3000nM) predicted']) ** 2\n",
        "mse = squared_differences.mean()\n",
        "print(f\"Mean Squared Error: {mse}\")"
      ]
    }
  ],
  "metadata": {
    "colab": {
      "provenance": []
    },
    "kernelspec": {
      "display_name": "Python 3",
      "name": "python3"
    },
    "language_info": {
      "codemirror_mode": {
        "name": "ipython",
        "version": 3
      },
      "file_extension": ".py",
      "mimetype": "text/x-python",
      "name": "python",
      "nbconvert_exporter": "python",
      "pygments_lexer": "ipython3",
      "version": "3.13.2"
    }
  },
  "nbformat": 4,
  "nbformat_minor": 0
}

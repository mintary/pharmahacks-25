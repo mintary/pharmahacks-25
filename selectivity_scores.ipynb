{
  "cells": [
    {
      "cell_type": "code",
      "execution_count": 2,
      "metadata": {},
      "outputs": [
        {
          "name": "stdout",
          "output_type": "stream",
          "text": [
            "Requirement already satisfied: pandas in c:\\users\\misse\\appdata\\local\\programs\\python\\python313\\lib\\site-packages (2.2.3)\n",
            "Collecting sklearn\n",
            "  Using cached sklearn-0.0.post12.tar.gz (2.6 kB)\n",
            "  Installing build dependencies: started\n",
            "  Installing build dependencies: finished with status 'done'\n",
            "  Getting requirements to build wheel: started\n",
            "  Getting requirements to build wheel: finished with status 'error'\n",
            "Note: you may need to restart the kernel to use updated packages.\n"
          ]
        },
        {
          "name": "stderr",
          "output_type": "stream",
          "text": [
            "  error: subprocess-exited-with-error\n",
            "  \n",
            "  × Getting requirements to build wheel did not run successfully.\n",
            "  │ exit code: 1\n",
            "  ╰─> [15 lines of output]\n",
            "      The 'sklearn' PyPI package is deprecated, use 'scikit-learn'\n",
            "      rather than 'sklearn' for pip commands.\n",
            "      \n",
            "      Here is how to fix this error in the main use cases:\n",
            "      - use 'pip install scikit-learn' rather than 'pip install sklearn'\n",
            "      - replace 'sklearn' by 'scikit-learn' in your pip requirements files\n",
            "        (requirements.txt, setup.py, setup.cfg, Pipfile, etc ...)\n",
            "      - if the 'sklearn' package is used by one of your dependencies,\n",
            "        it would be great if you take some time to track which package uses\n",
            "        'sklearn' instead of 'scikit-learn' and report it to their issue tracker\n",
            "      - as a last resort, set the environment variable\n",
            "        SKLEARN_ALLOW_DEPRECATED_SKLEARN_PACKAGE_INSTALL=True to avoid this error\n",
            "      \n",
            "      More information is available at\n",
            "      https://github.com/scikit-learn/sklearn-pypi-package\n",
            "      [end of output]\n",
            "  \n",
            "  note: This error originates from a subprocess, and is likely not a problem with pip.\n",
            "\n",
            "[notice] A new release of pip is available: 24.3.1 -> 25.0.1\n",
            "[notice] To update, run: python.exe -m pip install --upgrade pip\n",
            "error: subprocess-exited-with-error\n",
            "\n",
            "× Getting requirements to build wheel did not run successfully.\n",
            "│ exit code: 1\n",
            "╰─> See above for output.\n",
            "\n",
            "note: This error originates from a subprocess, and is likely not a problem with pip.\n"
          ]
        }
      ],
      "source": [
        "%pip install pandas sklearn\n",
        "# !pip install pandas sklearn"
      ]
    },
    {
      "cell_type": "code",
      "execution_count": null,
      "metadata": {
        "id": "MWGjTGu3H8su"
      },
      "outputs": [],
      "source": [
        "import pandas as pd\n",
        "from sklearn.metrics import mean_squared_error"
      ]
    },
    {
      "cell_type": "code",
      "execution_count": null,
      "metadata": {
        "colab": {
          "base_uri": "https://localhost:8080/"
        },
        "id": "e0WPEczGIA6K",
        "outputId": "fa20aaaa-6bca-4f30-dba3-e9abe3141ec2"
      },
      "outputs": [
        {
          "name": "stdout",
          "output_type": "stream",
          "text": [
            "Requirement already satisfied: gdown in /usr/local/lib/python3.11/dist-packages (5.2.0)\n",
            "Requirement already satisfied: beautifulsoup4 in /usr/local/lib/python3.11/dist-packages (from gdown) (4.13.3)\n",
            "Requirement already satisfied: filelock in /usr/local/lib/python3.11/dist-packages (from gdown) (3.17.0)\n",
            "Requirement already satisfied: requests[socks] in /usr/local/lib/python3.11/dist-packages (from gdown) (2.32.3)\n",
            "Requirement already satisfied: tqdm in /usr/local/lib/python3.11/dist-packages (from gdown) (4.67.1)\n",
            "Requirement already satisfied: soupsieve>1.2 in /usr/local/lib/python3.11/dist-packages (from beautifulsoup4->gdown) (2.6)\n",
            "Requirement already satisfied: typing-extensions>=4.0.0 in /usr/local/lib/python3.11/dist-packages (from beautifulsoup4->gdown) (4.12.2)\n",
            "Requirement already satisfied: charset-normalizer<4,>=2 in /usr/local/lib/python3.11/dist-packages (from requests[socks]->gdown) (3.4.1)\n",
            "Requirement already satisfied: idna<4,>=2.5 in /usr/local/lib/python3.11/dist-packages (from requests[socks]->gdown) (3.10)\n",
            "Requirement already satisfied: urllib3<3,>=1.21.1 in /usr/local/lib/python3.11/dist-packages (from requests[socks]->gdown) (2.3.0)\n",
            "Requirement already satisfied: certifi>=2017.4.17 in /usr/local/lib/python3.11/dist-packages (from requests[socks]->gdown) (2025.1.31)\n",
            "Requirement already satisfied: PySocks!=1.5.7,>=1.5.6 in /usr/local/lib/python3.11/dist-packages (from requests[socks]->gdown) (1.7.1)\n"
          ]
        },
        {
          "data": {
            "text/plain": [
              "['/content/csv_tables/Copie de table-3_0.csv',\n",
              " '/content/csv_tables/table-1.csv',\n",
              " '/content/csv_tables/table-2.csv',\n",
              " '/content/csv_tables/table-3',\n",
              " '/content/csv_tables/table-3_0.csv',\n",
              " '/content/csv_tables/table-3_NA.csv',\n",
              " '/content/csv_tables/table-3.csv']"
            ]
          },
          "execution_count": 18,
          "metadata": {},
          "output_type": "execute_result"
        }
      ],
      "source": [
        "# load path\n",
        "%pip install gdown\n",
        "import gdown\n",
        "url_results = \"https://drive.google.com/drive/folders/1Phkt4p4TlKBpSGa7-bX7jVloQ_qc29km?usp=drive_link\"\n",
        "gdown.download_folder(url_results, quiet=True)\n",
        "\n",
        "specificity_scores = \"https://drive.google.com/drive/folders/1pFuFpNtd6oh2w6Ga7PRlt0kjjwbDjXTP?usp=sharing\"\n",
        "gdown.download_folder(specificity_scores, quiet=True)"
      ]
    },
    {
      "cell_type": "markdown",
      "metadata": {
        "id": "P6YDvtUZPQmk"
      },
      "source": [
        "## 3000nM"
      ]
    },
    {
      "cell_type": "code",
      "execution_count": null,
      "metadata": {
        "colab": {
          "base_uri": "https://localhost:8080/"
        },
        "id": "4L4oJ_6nIMEb",
        "outputId": "286f26e6-e7c6-488e-e00f-fc396719c0d7"
      },
      "outputs": [
        {
          "name": "stdout",
          "output_type": "stream",
          "text": [
            "       Kinase       Compound Predicted_Kd_Category\n",
            "0         BRK   JNJ-28312141                >300nM\n",
            "1       ACVR1     BMS-540215                >300nM\n",
            "2       ERBB3        MLN-518                >300nM\n",
            "3         KIT  Staurosporine                <300nM\n",
            "4        ERN1        KW-2449                >300nM\n",
            "...       ...            ...                   ...\n",
            "5211    RIPK5      BIBW-2992                >300nM\n",
            "5212   PIK3CB     GSK-690693                >300nM\n",
            "5213  CSNK2A2   JNJ-28312141                >300nM\n",
            "5214      TTK      Lapatinib                >300nM\n",
            "5215     WEE2     PHA-665752                >300nM\n",
            "\n",
            "[5216 rows x 3 columns]\n",
            "       Kinase       Compound Predicted_Kd_Category\n",
            "0         BRK   JNJ-28312141               >3000nM\n",
            "1       ACVR1     BMS-540215               >3000nM\n",
            "2       ERBB3        MLN-518               >3000nM\n",
            "3         KIT  Staurosporine               >3000nM\n",
            "4        ERN1        KW-2449               >3000nM\n",
            "...       ...            ...                   ...\n",
            "5211    RIPK5      BIBW-2992               >3000nM\n",
            "5212   PIK3CB     GSK-690693               >3000nM\n",
            "5213  CSNK2A2   JNJ-28312141               >3000nM\n",
            "5214      TTK      Lapatinib               >3000nM\n",
            "5215     WEE2     PHA-665752               >3000nM\n",
            "\n",
            "[5216 rows x 3 columns]\n",
            "{'JNJ-28312141': 0.06666666666666667, 'BMS-540215': 0.04878048780487805, 'MLN-518': 0.020618556701030927, 'Staurosporine': 0.8607594936708861, 'KW-2449': 0.1411764705882353, 'CEP-701': 0.5684210526315789, 'CP-690550': 0.0, 'HKI-272': 0.10526315789473684, 'BI-2536': 0.0125, 'A-674563': 0.041237113402061855, 'BMS-387032/SNS-032': 0.011627906976744186, 'Crizotinib': 0.023255813953488372, 'ABT-869': 0.04081632653061224, 'TG-101348': 0.10204081632653061, 'LY-317615': 0.0, 'MLN-120B': 0.0, 'CHIR-258/TKI-258': 0.12359550561797752, 'Nilotinib': 0.08045977011494253, 'PHA-665752': 0.03225806451612903, 'AZD-6244/ARRY-886': 0.0, 'Imatinib': 0.03225806451612903, 'CI-1033': 0.1038961038961039, 'Flavopiridol': 0.02702702702702703, 'INCB18424': 0.0, 'AT-7519': 0.012345679012345678, 'AZD-2171': 0.0975609756097561, 'PTK-787': 0.0, 'Ki-20227': 0.010101010101010102, 'SGX-523': 0.011235955056179775, 'PD-173955': 0.19540229885057472, 'R547': 0.010869565217391304, 'Gefitinib': 0.056179775280898875, 'GSK-1838705A': 0.01020408163265306, 'Vandetanib': 0.17582417582417584, 'Dasatinib': 0.20270270270270271, 'PLX-4720': 0.0, 'AB-1010': 0.02531645569620253, 'BIRB-796': 0.024096385542168676, 'GSK-690693': 0.0, 'GDC-0879': 0.0, 'SB-203580': 0.0, 'AG-013736': 0.056818181818181816, 'Lapatinib': 0.010638297872340425, 'GW-2580': 0.0, 'Erlotinib': 0.08695652173913043, 'Pazopanib': 0.02247191011235955, 'AST-487': 0.1951219512195122, 'BMS-345541': 0.0, 'MLN-8054': 0.0, 'AZD-1152HQPA': 0.022222222222222223, 'TAE-684': 0.3548387096774194, 'CHIR-265/RAF-265': 0.033707865168539325, 'R406': 0.29333333333333333, 'LY-333531': 0.03125, 'GDC-0941': 0.03, 'AC220': 0.05194805194805195, 'PP-242': 0.0875, 'BIBW-2992': 0.02197802197802198, 'PKC-412': 0.1875}\n",
            "        Compound  S(300nM) predicted\n",
            "0   JNJ-28312141            0.066667\n",
            "1     BMS-540215            0.048780\n",
            "2        MLN-518            0.020619\n",
            "3  Staurosporine            0.860759\n",
            "4        KW-2449            0.141176\n"
          ]
        }
      ],
      "source": [
        "kd_300 = pd.read_csv('results/300_kd_category.csv')\n",
        "kd_3000 = pd.read_csv('results/3000_kd_category.csv')\n",
        "\n",
        "print(kd_300)\n",
        "print(kd_3000)\n",
        "\n",
        "kd_300['Affinity'] = kd_300['Predicted_Kd_Category'].apply(lambda x: 1 if '<300nM' in x else 0)\n",
        "\n",
        "specificity_scores_300 = {}\n",
        "\n",
        "for compound in kd_300['Compound'].unique():\n",
        "  compound_data = kd_300[kd_300['Compound'] == compound]\n",
        "\n",
        "  # count number of kinases with high affinity\n",
        "  high_affinity_count = compound_data[compound_data['Affinity'] == 1]['Kinase'].nunique()\n",
        "\n",
        "  # count total number of kinases for this inhibitor\n",
        "  total_kinases = compound_data['Kinase'].nunique()\n",
        "\n",
        "  # calculate specificity score\n",
        "  specificity_score = high_affinity_count / total_kinases\n",
        "  specificity_scores_300[compound] = specificity_score\n",
        "\n",
        "print(specificity_scores_300)\n",
        "\n",
        "predicted_specificity = pd.DataFrame(list(specificity_scores_300.items()), columns=['Compound', 'S(300nM) predicted'])\n",
        "print(predicted_specificity.head())"
      ]
    },
    {
      "cell_type": "code",
      "execution_count": null,
      "metadata": {
        "colab": {
          "base_uri": "https://localhost:8080/"
        },
        "id": "f4awauNZI4az",
        "outputId": "84925292-50d7-44cd-a798-a55c5cc4c706"
      },
      "outputs": [
        {
          "name": "stdout",
          "output_type": "stream",
          "text": [
            "              Compound  S(300nM) predicted  S(300nM)\n",
            "0         JNJ-28312141            0.066667    0.1425\n",
            "1           BMS-540215            0.048780    0.0389\n",
            "2              MLN-518            0.020619    0.0155\n",
            "3        Staurosporine            0.860759    0.7228\n",
            "4              KW-2449            0.141176    0.2617\n",
            "5              CEP-701            0.568421    0.5674\n",
            "6            CP-690550            0.000000    0.0207\n",
            "7              HKI-272            0.105263    0.0933\n",
            "8              BI-2536            0.012500    0.0337\n",
            "9             A-674563            0.041237    0.1166\n",
            "10  BMS-387032/SNS-032            0.011628    0.0492\n",
            "11          Crizotinib            0.023256    0.1269\n",
            "12             ABT-869            0.040816    0.0648\n",
            "13           TG-101348            0.102041    0.1788\n",
            "14           LY-317615            0.000000    0.0337\n",
            "15            MLN-120B            0.000000    0.0052\n",
            "16    CHIR-258/TKI-258            0.123596    0.1373\n",
            "17           Nilotinib            0.080460    0.0440\n",
            "18          PHA-665752            0.032258    0.0544\n",
            "19   AZD-6244/ARRY-886            0.000000    0.0026\n",
            "20            Imatinib            0.032258    0.0233\n",
            "21             CI-1033            0.103896    0.0285\n",
            "22        Flavopiridol            0.027027    0.0622\n",
            "23           INCB18424            0.000000    0.0803\n",
            "24             AT-7519            0.012346    0.0674\n",
            "25            AZD-2171            0.097561    0.0803\n",
            "26             PTK-787            0.000000    0.0181\n",
            "27            Ki-20227            0.010101    0.0596\n",
            "28             SGX-523            0.011236    0.0026\n",
            "29           PD-173955            0.195402    0.2073\n",
            "30                R547            0.010870    0.0674\n",
            "31           Gefitinib            0.056180    0.0130\n",
            "32        GSK-1838705A            0.010204    0.0596\n",
            "33          Vandetanib            0.175824    0.0933\n",
            "34           Dasatinib            0.202703    0.1632\n",
            "35            PLX-4720            0.000000    0.0311\n",
            "36             AB-1010            0.025316    0.0337\n",
            "37            BIRB-796            0.024096    0.0518\n",
            "38          GSK-690693            0.000000    0.0777\n",
            "39            GDC-0879            0.000000    0.0078\n",
            "40           SB-203580            0.000000    0.0285\n",
            "41           AG-013736            0.056818    0.0570\n",
            "42           Lapatinib            0.010638    0.0078\n",
            "43             GW-2580            0.000000    0.0078\n",
            "44           Erlotinib            0.086957    0.0285\n",
            "45           Pazopanib            0.022472    0.0570\n",
            "46             AST-487            0.195122    0.2617\n",
            "47          BMS-345541            0.000000    0.0052\n",
            "48            MLN-8054            0.000000    0.0207\n",
            "49        AZD-1152HQPA            0.022222    0.0311\n",
            "50             TAE-684            0.354839    0.3912\n",
            "51    CHIR-265/RAF-265            0.033708    0.0337\n",
            "52                R406            0.293333    0.3420\n",
            "53           LY-333531            0.031250    0.0544\n",
            "54            GDC-0941            0.030000    0.0155\n",
            "55               AC220            0.051948    0.0285\n",
            "56              PP-242            0.087500    0.1710\n",
            "57           BIBW-2992            0.021978    0.0155\n",
            "58             PKC-412            0.187500    0.1813\n"
          ]
        }
      ],
      "source": [
        "actual_specificity = pd.read_csv('csv_tables/table-2.csv', usecols=[\"Compound\", \"S(300nM)\"])\n",
        "\n",
        "merged_df = predicted_specificity.merge(actual_specificity, on=\"Compound\", suffixes=(\"_predicted\", \"_actual\"))\n",
        "print(merged_df)"
      ]
    },
    {
      "cell_type": "code",
      "execution_count": null,
      "metadata": {
        "colab": {
          "base_uri": "https://localhost:8080/"
        },
        "id": "VvqvPBvBOaRr",
        "outputId": "6cd86fe1-03ca-4458-e2ed-08ab5dfff297"
      },
      "outputs": [
        {
          "name": "stdout",
          "output_type": "stream",
          "text": [
            "0.09621355932203392\n",
            "Mean Squared Error: 0.002270785202104648\n"
          ]
        }
      ],
      "source": [
        "actual_mean = merged_df['S(300nM)'].mean()\n",
        "print(actual_mean)\n",
        "\n",
        "squared_differences = (merged_df['S(300nM)'] - merged_df['S(300nM) predicted']) ** 2\n",
        "mse = squared_differences.mean()\n",
        "print(f\"Mean Squared Error: {mse}\")"
      ]
    },
    {
      "cell_type": "markdown",
      "metadata": {
        "id": "780AbartOfTb"
      },
      "source": [
        "## 3000nM"
      ]
    },
    {
      "cell_type": "code",
      "execution_count": null,
      "metadata": {
        "colab": {
          "base_uri": "https://localhost:8080/"
        },
        "id": "UQGDyLOWPAFz",
        "outputId": "78841a3e-9485-44cc-dd97-729b4c6bddbe"
      },
      "outputs": [
        {
          "name": "stdout",
          "output_type": "stream",
          "text": [
            "Empty DataFrame\n",
            "Columns: [Compound, S(3000nM) predicted]\n",
            "Index: []\n"
          ]
        }
      ],
      "source": [
        "\n",
        "kd_3000['Affinity'] = kd_3000['Predicted_Kd_Category'].apply(lambda x: 1 if '<3000nM' in x else 0)\n",
        "\n",
        "specificity_scores_3000 = {}\n",
        "\n",
        "for compound in kd_3000['Compound'].unique():\n",
        "  compound_data = kd_3000[kd_3000['Compound'] == compound]\n",
        "\n",
        "  # count number of kinases with high affinity\n",
        "  high_affinity_count = compound_data[compound_data['Affinity'] == 1]['Kinase'].nunique()\n",
        "\n",
        "  # count total number of kinases for this inhibitor\n",
        "  total_kinases = compound_data['Kinase'].nunique()\n",
        "\n",
        "  # calculate specificity score\n",
        "  specificity_score = high_affinity_count / total_kinases\n",
        "  specificity_scores_300[compound] = specificity_score\n",
        "\n",
        "predicted_specificity = pd.DataFrame(list(specificity_scores_3000.items()), columns=['Compound', 'S(3000nM) predicted'])\n",
        "print(predicted_specificity)"
      ]
    },
    {
      "cell_type": "code",
      "execution_count": null,
      "metadata": {
        "colab": {
          "base_uri": "https://localhost:8080/"
        },
        "id": "FtS-1N-lPFQD",
        "outputId": "ae78d3f2-e373-4121-dd2d-3cd61d8ebd2a"
      },
      "outputs": [
        {
          "name": "stdout",
          "output_type": "stream",
          "text": [
            "Empty DataFrame\n",
            "Columns: [Compound, S(3000nM) predicted, S(3000nM)]\n",
            "Index: []\n"
          ]
        }
      ],
      "source": [
        "actual_specificity = pd.read_csv('csv_tables/table-2.csv', usecols=[\"Compound\", \"S(3000nM)\"])\n",
        "\n",
        "merged_df = predicted_specificity.merge(actual_specificity, on=\"Compound\", suffixes=(\"_predicted\", \"_actual\"))\n",
        "print(merged_df)"
      ]
    },
    {
      "cell_type": "code",
      "execution_count": null,
      "metadata": {
        "colab": {
          "base_uri": "https://localhost:8080/"
        },
        "id": "v1OkZNmrPK6E",
        "outputId": "cdee7149-5913-4cf9-81ca-0cd17fbb8cd9"
      },
      "outputs": [
        {
          "name": "stdout",
          "output_type": "stream",
          "text": [
            "nan\n",
            "Mean Squared Error: nan\n"
          ]
        }
      ],
      "source": [
        "actual_mean = merged_df['S(3000nM)'].mean()\n",
        "print(actual_mean)\n",
        "\n",
        "squared_differences = (merged_df['S(3000nM)'] - merged_df['S(3000nM) predicted']) ** 2\n",
        "mse = squared_differences.mean()\n",
        "print(f\"Mean Squared Error: {mse}\")"
      ]
    }
  ],
  "metadata": {
    "colab": {
      "provenance": []
    },
    "kernelspec": {
      "display_name": "Python 3",
      "name": "python3"
    },
    "language_info": {
      "codemirror_mode": {
        "name": "ipython",
        "version": 3
      },
      "file_extension": ".py",
      "mimetype": "text/x-python",
      "name": "python",
      "nbconvert_exporter": "python",
      "pygments_lexer": "ipython3",
      "version": "3.13.2"
    }
  },
  "nbformat": 4,
  "nbformat_minor": 0
}

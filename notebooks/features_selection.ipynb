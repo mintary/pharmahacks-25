{
 "cells": [
  {
   "cell_type": "code",
   "execution_count": 38,
   "metadata": {},
   "outputs": [
    {
     "name": "stdout",
     "output_type": "stream",
     "text": [
      "Requirement already satisfied: pandas in c:\\users\\misse\\appdata\\local\\programs\\python\\python313\\lib\\site-packages (2.2.3)\n",
      "Requirement already satisfied: seaborn in c:\\users\\misse\\appdata\\local\\programs\\python\\python313\\lib\\site-packages (0.13.2)\n",
      "Requirement already satisfied: matplotlib in c:\\users\\misse\\appdata\\local\\programs\\python\\python313\\lib\\site-packages (3.10.1)\n",
      "Requirement already satisfied: numpy>=1.26.0 in c:\\users\\misse\\appdata\\local\\programs\\python\\python313\\lib\\site-packages (from pandas) (2.2.3)\n",
      "Requirement already satisfied: python-dateutil>=2.8.2 in c:\\users\\misse\\appdata\\local\\programs\\python\\python313\\lib\\site-packages (from pandas) (2.9.0.post0)\n",
      "Requirement already satisfied: pytz>=2020.1 in c:\\users\\misse\\appdata\\local\\programs\\python\\python313\\lib\\site-packages (from pandas) (2025.1)\n",
      "Requirement already satisfied: tzdata>=2022.7 in c:\\users\\misse\\appdata\\local\\programs\\python\\python313\\lib\\site-packages (from pandas) (2025.1)\n",
      "Requirement already satisfied: contourpy>=1.0.1 in c:\\users\\misse\\appdata\\local\\programs\\python\\python313\\lib\\site-packages (from matplotlib) (1.3.1)\n",
      "Requirement already satisfied: cycler>=0.10 in c:\\users\\misse\\appdata\\local\\programs\\python\\python313\\lib\\site-packages (from matplotlib) (0.12.1)\n",
      "Requirement already satisfied: fonttools>=4.22.0 in c:\\users\\misse\\appdata\\local\\programs\\python\\python313\\lib\\site-packages (from matplotlib) (4.56.0)\n",
      "Requirement already satisfied: kiwisolver>=1.3.1 in c:\\users\\misse\\appdata\\local\\programs\\python\\python313\\lib\\site-packages (from matplotlib) (1.4.8)\n",
      "Requirement already satisfied: packaging>=20.0 in c:\\users\\misse\\appdata\\local\\programs\\python\\python313\\lib\\site-packages (from matplotlib) (24.2)\n",
      "Requirement already satisfied: pillow>=8 in c:\\users\\misse\\appdata\\local\\programs\\python\\python313\\lib\\site-packages (from matplotlib) (11.1.0)\n",
      "Requirement already satisfied: pyparsing>=2.3.1 in c:\\users\\misse\\appdata\\local\\programs\\python\\python313\\lib\\site-packages (from matplotlib) (3.2.1)\n",
      "Requirement already satisfied: six>=1.5 in c:\\users\\misse\\appdata\\local\\programs\\python\\python313\\lib\\site-packages (from python-dateutil>=2.8.2->pandas) (1.17.0)\n",
      "Note: you may need to restart the kernel to use updated packages.\n"
     ]
    },
    {
     "name": "stderr",
     "output_type": "stream",
     "text": [
      "\n",
      "[notice] A new release of pip is available: 24.3.1 -> 25.0.1\n",
      "[notice] To update, run: python.exe -m pip install --upgrade pip\n"
     ]
    }
   ],
   "source": [
    "%pip install pandas seaborn matplotlib\n",
    "#!pip install pandas seaborn matplotlib"
   ]
  },
  {
   "cell_type": "code",
   "execution_count": 39,
   "metadata": {},
   "outputs": [],
   "source": [
    "import pandas as pd\n",
    "import seaborn as sns\n",
    "import matplotlib.pyplot as plt"
   ]
  },
  {
   "cell_type": "code",
   "execution_count": 40,
   "metadata": {},
   "outputs": [
    {
     "name": "stdout",
     "output_type": "stream",
     "text": [
      "Requirement already satisfied: gdown in c:\\users\\misse\\appdata\\local\\programs\\python\\python313\\lib\\site-packages (5.2.0)\n",
      "Requirement already satisfied: beautifulsoup4 in c:\\users\\misse\\appdata\\local\\programs\\python\\python313\\lib\\site-packages (from gdown) (4.13.3)\n",
      "Requirement already satisfied: filelock in c:\\users\\misse\\appdata\\local\\programs\\python\\python313\\lib\\site-packages (from gdown) (3.18.0)\n",
      "Requirement already satisfied: requests[socks] in c:\\users\\misse\\appdata\\local\\programs\\python\\python313\\lib\\site-packages (from gdown) (2.32.3)\n",
      "Requirement already satisfied: tqdm in c:\\users\\misse\\appdata\\local\\programs\\python\\python313\\lib\\site-packages (from gdown) (4.67.1)\n",
      "Requirement already satisfied: soupsieve>1.2 in c:\\users\\misse\\appdata\\local\\programs\\python\\python313\\lib\\site-packages (from beautifulsoup4->gdown) (2.6)\n",
      "Requirement already satisfied: typing-extensions>=4.0.0 in c:\\users\\misse\\appdata\\local\\programs\\python\\python313\\lib\\site-packages (from beautifulsoup4->gdown) (4.12.2)\n",
      "Requirement already satisfied: charset-normalizer<4,>=2 in c:\\users\\misse\\appdata\\local\\programs\\python\\python313\\lib\\site-packages (from requests[socks]->gdown) (3.4.1)\n",
      "Requirement already satisfied: idna<4,>=2.5 in c:\\users\\misse\\appdata\\local\\programs\\python\\python313\\lib\\site-packages (from requests[socks]->gdown) (3.10)\n",
      "Requirement already satisfied: urllib3<3,>=1.21.1 in c:\\users\\misse\\appdata\\local\\programs\\python\\python313\\lib\\site-packages (from requests[socks]->gdown) (2.3.0)\n",
      "Requirement already satisfied: certifi>=2017.4.17 in c:\\users\\misse\\appdata\\local\\programs\\python\\python313\\lib\\site-packages (from requests[socks]->gdown) (2025.1.31)\n",
      "Requirement already satisfied: PySocks!=1.5.7,>=1.5.6 in c:\\users\\misse\\appdata\\local\\programs\\python\\python313\\lib\\site-packages (from requests[socks]->gdown) (1.7.1)\n",
      "Requirement already satisfied: colorama in c:\\users\\misse\\appdata\\local\\programs\\python\\python313\\lib\\site-packages (from tqdm->gdown) (0.4.6)\n",
      "Note: you may need to restart the kernel to use updated packages.\n"
     ]
    },
    {
     "name": "stderr",
     "output_type": "stream",
     "text": [
      "\n",
      "[notice] A new release of pip is available: 24.3.1 -> 25.0.1\n",
      "[notice] To update, run: python.exe -m pip install --upgrade pip\n"
     ]
    },
    {
     "data": {
      "text/plain": [
       "['c:\\\\Users\\\\misse\\\\Projects\\\\pharmahacks_25\\\\pharmahacks-25\\\\embeddings\\\\all_seqs.pkl',\n",
       " 'c:\\\\Users\\\\misse\\\\Projects\\\\pharmahacks_25\\\\pharmahacks-25\\\\embeddings\\\\base_seq.pkl',\n",
       " 'c:\\\\Users\\\\misse\\\\Projects\\\\pharmahacks_25\\\\pharmahacks-25\\\\embeddings\\\\global_embeddings_map.pkl',\n",
       " 'c:\\\\Users\\\\misse\\\\Projects\\\\pharmahacks_25\\\\pharmahacks-25\\\\embeddings\\\\global_embeddings_max_length.npy']"
      ]
     },
     "execution_count": 40,
     "metadata": {},
     "output_type": "execute_result"
    }
   ],
   "source": [
    "%pip install gdown\n",
    "import gdown\n",
    "url_csv = \"https://drive.google.com/drive/folders/1pFuFpNtd6oh2w6Ga7PRlt0kjjwbDjXTP?usp=sharing\"\n",
    "url_embeddings = \"https://drive.google.com/drive/folders/1Eop8xnD8XPh5nU0omBgoQ84l7u2W_KQZ?usp=sharing\"\n",
    "gdown.download_folder(url_csv, quiet=True)\n",
    "gdown.download_folder(url_embeddings, quiet=True)"
   ]
  },
  {
   "cell_type": "code",
   "execution_count": 41,
   "metadata": {},
   "outputs": [
    {
     "name": "stdout",
     "output_type": "stream",
     "text": [
      "  Accession Number Entrez Gene Symbol                         Kinase  \\\n",
      "0      NP_055726.3               AAK1                           AAK1   \n",
      "1      NP_005148.2               ABL1     ABL1(E255K)-phosphorylated   \n",
      "2      NP_005148.2               ABL1  ABL1(F317I)-nonphosphorylated   \n",
      "3      NP_005148.2               ABL1     ABL1(F317I)-phosphorylated   \n",
      "4      NP_005148.2               ABL1  ABL1(F317L)-nonphosphorylated   \n",
      "\n",
      "   Compound       Kd Mutant Kinase Group  \\\n",
      "0  A-674563     43.0     NO        Other   \n",
      "1  A-674563  10001.0    YES           TK   \n",
      "2  A-674563  10001.0    YES           TK   \n",
      "3  A-674563  10001.0    YES           TK   \n",
      "4  A-674563  10001.0    YES           TK   \n",
      "\n",
      "  Binding Mode (based on ABL1-phos. vs. -nonphos affinity)  S(300nM)  \\\n",
      "0                                       undetermined          0.1166   \n",
      "1                                       undetermined          0.1166   \n",
      "2                                       undetermined          0.1166   \n",
      "3                                       undetermined          0.1166   \n",
      "4                                       undetermined          0.1166   \n",
      "\n",
      "   S(3000nM)  \n",
      "0     0.2772  \n",
      "1     0.2772  \n",
      "2     0.2772  \n",
      "3     0.2772  \n",
      "4     0.2772  \n"
     ]
    }
   ],
   "source": [
    "table1 = pd.read_csv('csv_tables/table-1.csv')\n",
    "table2 = pd.read_csv('csv_tables/table-2.csv')\n",
    "table3 = pd.read_csv('csv_tables/table-3.csv')\n",
    "\n",
    "# extract compound names\n",
    "compound_columns = table3.columns[3:]\n",
    "\n",
    "# merge compound columns into rows with the corresponding kinase\n",
    "kinase_compound_kd = pd.melt(\n",
    "    table3,\n",
    "    id_vars=['Accession Number', 'Entrez Gene Symbol', 'Kinase'],\n",
    "    value_vars=compound_columns,\n",
    "    var_name='Compound',\n",
    "    value_name='Kd'\n",
    ")\n",
    "\n",
    "# merge tables\n",
    "merged_df = kinase_compound_kd.merge(table1, on=['Accession Number', 'Entrez Gene Symbol', 'Kinase'], how='left')\n",
    "merged_df = merged_df.merge(table2[['Compound', 'Binding Mode (based on ABL1-phos. vs. -nonphos affinity)', 'S(300nM)', 'S(3000nM)']], on='Compound', how='left')\n",
    "\n",
    "print(merged_df.head())"
   ]
  },
  {
   "cell_type": "code",
   "execution_count": 45,
   "metadata": {},
   "outputs": [
    {
     "name": "stdout",
     "output_type": "stream",
     "text": [
      "   S(300nM)  S(3000nM)  \\\n",
      "0    0.1166     0.2772   \n",
      "1    0.1166     0.2772   \n",
      "2    0.1166     0.2772   \n",
      "3    0.1166     0.2772   \n",
      "4    0.1166     0.2772   \n",
      "\n",
      "  Binding Mode (based on ABL1-phos. vs. -nonphos affinity) Kinase Group Mutant  \n",
      "0                                       undetermined              Other     NO  \n",
      "1                                       undetermined                 TK    YES  \n",
      "2                                       undetermined                 TK    YES  \n",
      "3                                       undetermined                 TK    YES  \n",
      "4                                       undetermined                 TK    YES  \n"
     ]
    }
   ],
   "source": [
    "relevant_df = merged_df[['S(300nM)', 'S(3000nM)', 'Binding Mode (based on ABL1-phos. vs. -nonphos affinity)', 'Kinase Group', 'Mutant']]\n",
    "print(relevant_df.head())"
   ]
  },
  {
   "cell_type": "code",
   "execution_count": 46,
   "metadata": {},
   "outputs": [
    {
     "name": "stdout",
     "output_type": "stream",
     "text": [
      "   S(300nM)  S(3000nM)  \\\n",
      "0    0.1166     0.2772   \n",
      "1    0.1166     0.2772   \n",
      "2    0.1166     0.2772   \n",
      "3    0.1166     0.2772   \n",
      "4    0.1166     0.2772   \n",
      "\n",
      "   Binding Mode (based on ABL1-phos. vs. -nonphos affinity)_Type I  \\\n",
      "0                                              False                 \n",
      "1                                              False                 \n",
      "2                                              False                 \n",
      "3                                              False                 \n",
      "4                                              False                 \n",
      "\n",
      "   Binding Mode (based on ABL1-phos. vs. -nonphos affinity)_Type II  \\\n",
      "0                                              False                  \n",
      "1                                              False                  \n",
      "2                                              False                  \n",
      "3                                              False                  \n",
      "4                                              False                  \n",
      "\n",
      "   Binding Mode (based on ABL1-phos. vs. -nonphos affinity)_undetermined  \\\n",
      "0                                               True                       \n",
      "1                                               True                       \n",
      "2                                               True                       \n",
      "3                                               True                       \n",
      "4                                               True                       \n",
      "\n",
      "   Kinase Group_AGC  Kinase Group_Atypical  Kinase Group_CAMK  \\\n",
      "0             False                  False              False   \n",
      "1             False                  False              False   \n",
      "2             False                  False              False   \n",
      "3             False                  False              False   \n",
      "4             False                  False              False   \n",
      "\n",
      "   Kinase Group_CK1  Kinase Group_CMGC  Kinase Group_Lipid  \\\n",
      "0             False              False               False   \n",
      "1             False              False               False   \n",
      "2             False              False               False   \n",
      "3             False              False               False   \n",
      "4             False              False               False   \n",
      "\n",
      "   Kinase Group_Other  Kinase Group_Pathogen  Kinase Group_STE  \\\n",
      "0                True                  False             False   \n",
      "1               False                  False             False   \n",
      "2               False                  False             False   \n",
      "3               False                  False             False   \n",
      "4               False                  False             False   \n",
      "\n",
      "   Kinase Group_TK  Kinase Group_TKL  Mutant_NO  Mutant_YES  \n",
      "0            False             False       True       False  \n",
      "1             True             False      False        True  \n",
      "2             True             False      False        True  \n",
      "3             True             False      False        True  \n",
      "4             True             False      False        True  \n"
     ]
    }
   ],
   "source": [
    "relevant_df_encoded = pd.get_dummies(relevant_df, columns=['Binding Mode (based on ABL1-phos. vs. -nonphos affinity)', 'Kinase Group', 'Mutant'])\n",
    "print(relevant_df_encoded.head())"
   ]
  },
  {
   "cell_type": "code",
   "execution_count": null,
   "metadata": {},
   "outputs": [
    {
     "name": "stdout",
     "output_type": "stream",
     "text": [
      "S(300nM)                                                                 1.000000e+00\n",
      "S(3000nM)                                                                9.301859e-01\n",
      "Binding Mode (based on ABL1-phos. vs. -nonphos affinity)_Type I          3.808686e-01\n",
      "Mutant_NO                                                                1.523698e-15\n",
      "Kinase Group_TK                                                          7.643670e-16\n",
      "Kinase Group_Other                                                       1.848379e-16\n",
      "Mutant_YES                                                               1.137241e-16\n",
      "Kinase Group_STE                                                         1.090483e-16\n",
      "Kinase Group_Pathogen                                                    3.477667e-17\n",
      "Kinase Group_AGC                                                         2.026712e-17\n",
      "Kinase Group_CMGC                                                       -3.490084e-17\n",
      "Kinase Group_CK1                                                        -5.851314e-17\n",
      "Kinase Group_Atypical                                                   -1.149962e-16\n",
      "Kinase Group_TKL                                                        -1.634681e-16\n",
      "Kinase Group_Lipid                                                      -2.015226e-16\n",
      "Kinase Group_CAMK                                                       -3.334759e-16\n",
      "Binding Mode (based on ABL1-phos. vs. -nonphos affinity)_Type II        -1.242154e-01\n",
      "Binding Mode (based on ABL1-phos. vs. -nonphos affinity)_undetermined   -3.118389e-01\n",
      "Name: S(300nM), dtype: float64\n"
     ]
    }
   ],
   "source": [
    "correlation_matrix = relevant_df_encoded.corr()\n"
   ]
  },
  {
   "cell_type": "code",
   "execution_count": 50,
   "metadata": {},
   "outputs": [
    {
     "name": "stdout",
     "output_type": "stream",
     "text": [
      "S(3000nM)                                                                1.000000e+00\n",
      "S(300nM)                                                                 9.301859e-01\n",
      "Binding Mode (based on ABL1-phos. vs. -nonphos affinity)_Type I          5.038162e-01\n",
      "Mutant_NO                                                                1.849854e-15\n",
      "Kinase Group_TK                                                          7.689876e-16\n",
      "Kinase Group_Other                                                       2.055961e-16\n",
      "Mutant_YES                                                               1.283630e-16\n",
      "Kinase Group_STE                                                         9.338511e-17\n",
      "Kinase Group_Pathogen                                                    4.014719e-17\n",
      "Kinase Group_AGC                                                        -2.488369e-17\n",
      "Kinase Group_CMGC                                                       -6.454334e-17\n",
      "Kinase Group_CK1                                                        -7.353698e-17\n",
      "Kinase Group_Atypical                                                   -1.314679e-16\n",
      "Kinase Group_Lipid                                                      -1.559671e-16\n",
      "Kinase Group_TKL                                                        -1.568239e-16\n",
      "Kinase Group_CAMK                                                       -3.350814e-16\n",
      "Binding Mode (based on ABL1-phos. vs. -nonphos affinity)_Type II        -1.604942e-01\n",
      "Binding Mode (based on ABL1-phos. vs. -nonphos affinity)_undetermined   -4.156150e-01\n",
      "Name: S(3000nM), dtype: float64\n"
     ]
    }
   ],
   "source": [
    "print(correlation_matrix['S(3000nM)'].sort_values(ascending=False))\n"
   ]
  },
  {
   "cell_type": "code",
   "execution_count": null,
   "metadata": {},
   "outputs": [],
   "source": [
    "plt.figure(figsize=(12, 8))\n"
   ]
  }
 ],
 "metadata": {
  "kernelspec": {
   "display_name": "Python 3",
   "language": "python",
   "name": "python3"
  },
  "language_info": {
   "codemirror_mode": {
    "name": "ipython",
    "version": 3
   },
   "file_extension": ".py",
   "mimetype": "text/x-python",
   "name": "python",
   "nbconvert_exporter": "python",
   "pygments_lexer": "ipython3",
   "version": "3.13.2"
  }
 },
 "nbformat": 4,
 "nbformat_minor": 2
}

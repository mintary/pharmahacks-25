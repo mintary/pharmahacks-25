{
 "cells": [
  {
   "cell_type": "markdown",
   "metadata": {},
   "source": [
    "# Evaluation"
   ]
  },
  {
   "cell_type": "code",
   "execution_count": 1,
   "metadata": {},
   "outputs": [
    {
     "name": "stdout",
     "output_type": "stream",
     "text": [
      "Requirement already satisfied: joblib in c:\\users\\misse\\appdata\\local\\programs\\python\\python313\\lib\\site-packages (1.4.2)\n",
      "Note: you may need to restart the kernel to use updated packages.\n"
     ]
    },
    {
     "name": "stderr",
     "output_type": "stream",
     "text": [
      "\n",
      "[notice] A new release of pip is available: 24.3.1 -> 25.0.1\n",
      "[notice] To update, run: python.exe -m pip install --upgrade pip\n"
     ]
    }
   ],
   "source": [
    "%pip install joblib"
   ]
  },
  {
   "cell_type": "code",
   "execution_count": 4,
   "metadata": {},
   "outputs": [
    {
     "ename": "AttributeError",
     "evalue": "'Booster' object has no attribute 'get_booster'",
     "output_type": "error",
     "traceback": [
      "\u001b[31m---------------------------------------------------------------------------\u001b[39m",
      "\u001b[31mAttributeError\u001b[39m                            Traceback (most recent call last)",
      "\u001b[36mCell\u001b[39m\u001b[36m \u001b[39m\u001b[32mIn[4]\u001b[39m\u001b[32m, line 6\u001b[39m\n\u001b[32m      3\u001b[39m clf_3000 = joblib.load(\u001b[33m'\u001b[39m\u001b[33m3000_kd_classifier_weight.pkl\u001b[39m\u001b[33m'\u001b[39m)\n\u001b[32m      4\u001b[39m clf_300 = joblib.load(\u001b[33m'\u001b[39m\u001b[33m300_kd_classifier_weight.pkl\u001b[39m\u001b[33m'\u001b[39m)\n\u001b[32m----> \u001b[39m\u001b[32m6\u001b[39m feature_importances_3000 = \u001b[43mclf_3000\u001b[49m\u001b[43m.\u001b[49m\u001b[43mget_booster\u001b[49m().get_score(importance_type=\u001b[33m'\u001b[39m\u001b[33mweight\u001b[39m\u001b[33m'\u001b[39m)\n\u001b[32m      7\u001b[39m feature_importances_300 = clf_300.get_booster().get_score(importance_type=\u001b[33m'\u001b[39m\u001b[33mweight\u001b[39m\u001b[33m'\u001b[39m)\n",
      "\u001b[31mAttributeError\u001b[39m: 'Booster' object has no attribute 'get_booster'"
     ]
    }
   ],
   "source": [
    "import joblib\n",
    "\n",
    "clf_3000 = joblib.load('3000_kd_classifier_weight.pkl')\n",
    "clf_300 = joblib.load('300_kd_classifier_weight.pkl')\n",
    "\n",
    "feature_importances_3000 = clf_3000.get_booster().get_score(importance_type='weight')\n",
    "feature_importances_300 = clf_300.get_booster().get_score(importance_type='weight')\n"
   ]
  }
 ],
 "metadata": {
  "kernelspec": {
   "display_name": "Python 3",
   "language": "python",
   "name": "python3"
  },
  "language_info": {
   "codemirror_mode": {
    "name": "ipython",
    "version": 3
   },
   "file_extension": ".py",
   "mimetype": "text/x-python",
   "name": "python",
   "nbconvert_exporter": "python",
   "pygments_lexer": "ipython3",
   "version": "3.13.2"
  }
 },
 "nbformat": 4,
 "nbformat_minor": 2
}
